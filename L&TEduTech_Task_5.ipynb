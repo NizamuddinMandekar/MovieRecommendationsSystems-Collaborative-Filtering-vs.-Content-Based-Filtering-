{
  "nbformat": 4,
  "nbformat_minor": 0,
  "metadata": {
    "colab": {
      "provenance": []
    },
    "kernelspec": {
      "name": "python3",
      "display_name": "Python 3"
    },
    "language_info": {
      "name": "python"
    }
  },
  "cells": [
    {
      "cell_type": "code",
      "source": [
        "import pandas as pd\n",
        "import numpy as np\n",
        "import matplotlib.pyplot as plt\n",
        "import seaborn as sns\n",
        "\n",
        "# Load the required datasets.\n",
        "movies = pd.read_csv('/content/drive/MyDrive/ML L&T EduTech/Task-5/movies.csv')\n",
        "ratings = pd.read_csv('/content/drive/MyDrive/ML L&T EduTech/Task-5/ratings.csv')\n"
      ],
      "metadata": {
        "id": "mv81NtsLxxsm"
      },
      "execution_count": 1,
      "outputs": []
    },
    {
      "cell_type": "code",
      "source": [
        "# Explore the movies dataset\n",
        "print(\"Movies dataset:\")\n",
        "print(movies.head())\n",
        "print(movies.info())\n",
        "print(movies.describe())\n",
        "\n",
        "# Check for missing values in the movies dataset\n",
        "print(\"Missing values in movies dataset:\")\n",
        "print(movies.isnull().sum())"
      ],
      "metadata": {
        "colab": {
          "base_uri": "https://localhost:8080/"
        },
        "id": "2OcEr-w0zbqh",
        "outputId": "17c33efd-cb31-45e7-a9fd-c2018f54fd58"
      },
      "execution_count": 2,
      "outputs": [
        {
          "output_type": "stream",
          "name": "stdout",
          "text": [
            "Movies dataset:\n",
            "   movieId                               title  \\\n",
            "0        1                    Toy Story (1995)   \n",
            "1        2                      Jumanji (1995)   \n",
            "2        3             Grumpier Old Men (1995)   \n",
            "3        4            Waiting to Exhale (1995)   \n",
            "4        5  Father of the Bride Part II (1995)   \n",
            "\n",
            "                                        genres  \n",
            "0  Adventure|Animation|Children|Comedy|Fantasy  \n",
            "1                   Adventure|Children|Fantasy  \n",
            "2                               Comedy|Romance  \n",
            "3                         Comedy|Drama|Romance  \n",
            "4                                       Comedy  \n",
            "<class 'pandas.core.frame.DataFrame'>\n",
            "RangeIndex: 9742 entries, 0 to 9741\n",
            "Data columns (total 3 columns):\n",
            " #   Column   Non-Null Count  Dtype \n",
            "---  ------   --------------  ----- \n",
            " 0   movieId  9742 non-null   int64 \n",
            " 1   title    9742 non-null   object\n",
            " 2   genres   9742 non-null   object\n",
            "dtypes: int64(1), object(2)\n",
            "memory usage: 228.5+ KB\n",
            "None\n",
            "             movieId\n",
            "count    9742.000000\n",
            "mean    42200.353623\n",
            "std     52160.494854\n",
            "min         1.000000\n",
            "25%      3248.250000\n",
            "50%      7300.000000\n",
            "75%     76232.000000\n",
            "max    193609.000000\n",
            "Missing values in movies dataset:\n",
            "movieId    0\n",
            "title      0\n",
            "genres     0\n",
            "dtype: int64\n"
          ]
        }
      ]
    },
    {
      "cell_type": "code",
      "source": [
        "# Explore the ratings dataset\n",
        "print(\"Ratings dataset:\")\n",
        "print(ratings.head())\n",
        "print(ratings.info())\n",
        "print(ratings.describe())\n",
        "\n",
        "# Check for missing values in the ratings dataset\n",
        "print(\"Missing values in ratings dataset:\")\n",
        "print(ratings.isnull().sum())"
      ],
      "metadata": {
        "colab": {
          "base_uri": "https://localhost:8080/"
        },
        "id": "Y-7AllVrzmI1",
        "outputId": "7addff5c-53df-4fe5-ccbd-d3cb793d5118"
      },
      "execution_count": 3,
      "outputs": [
        {
          "output_type": "stream",
          "name": "stdout",
          "text": [
            "Ratings dataset:\n",
            "   userId  movieId  rating  timestamp\n",
            "0       1        1     4.0  964982703\n",
            "1       1        3     4.0  964981247\n",
            "2       1        6     4.0  964982224\n",
            "3       1       47     5.0  964983815\n",
            "4       1       50     5.0  964982931\n",
            "<class 'pandas.core.frame.DataFrame'>\n",
            "RangeIndex: 100836 entries, 0 to 100835\n",
            "Data columns (total 4 columns):\n",
            " #   Column     Non-Null Count   Dtype  \n",
            "---  ------     --------------   -----  \n",
            " 0   userId     100836 non-null  int64  \n",
            " 1   movieId    100836 non-null  int64  \n",
            " 2   rating     100836 non-null  float64\n",
            " 3   timestamp  100836 non-null  int64  \n",
            "dtypes: float64(1), int64(3)\n",
            "memory usage: 3.1 MB\n",
            "None\n",
            "              userId        movieId         rating     timestamp\n",
            "count  100836.000000  100836.000000  100836.000000  1.008360e+05\n",
            "mean      326.127564   19435.295718       3.501557  1.205946e+09\n",
            "std       182.618491   35530.987199       1.042529  2.162610e+08\n",
            "min         1.000000       1.000000       0.500000  8.281246e+08\n",
            "25%       177.000000    1199.000000       3.000000  1.019124e+09\n",
            "50%       325.000000    2991.000000       3.500000  1.186087e+09\n",
            "75%       477.000000    8122.000000       4.000000  1.435994e+09\n",
            "max       610.000000  193609.000000       5.000000  1.537799e+09\n",
            "Missing values in ratings dataset:\n",
            "userId       0\n",
            "movieId      0\n",
            "rating       0\n",
            "timestamp    0\n",
            "dtype: int64\n"
          ]
        }
      ]
    },
    {
      "cell_type": "code",
      "source": [
        "import pandas as pd\n",
        "ratings = pd.read_csv('/content/drive/MyDrive/ML L&T EduTech/Task-5/ratings.csv')\n",
        "# Assuming 'ratings' DataFrame contains userId, movieId, and rating columns\n",
        "user_item_matrix = ratings.pivot_table(index='userId', columns='movieId', values='rating')\n",
        "\n",
        "# Display the user-item matrix\n",
        "print(user_item_matrix.head())\n"
      ],
      "metadata": {
        "colab": {
          "base_uri": "https://localhost:8080/"
        },
        "id": "qLcjei8sz67a",
        "outputId": "feafdb62-4a2d-49fc-f428-9e3cc9d72dff"
      },
      "execution_count": 4,
      "outputs": [
        {
          "output_type": "stream",
          "name": "stdout",
          "text": [
            "movieId  1       2       3       4       5       6       7       8       \\\n",
            "userId                                                                    \n",
            "1           4.0     NaN     4.0     NaN     NaN     4.0     NaN     NaN   \n",
            "2           NaN     NaN     NaN     NaN     NaN     NaN     NaN     NaN   \n",
            "3           NaN     NaN     NaN     NaN     NaN     NaN     NaN     NaN   \n",
            "4           NaN     NaN     NaN     NaN     NaN     NaN     NaN     NaN   \n",
            "5           4.0     NaN     NaN     NaN     NaN     NaN     NaN     NaN   \n",
            "\n",
            "movieId  9       10      ...  193565  193567  193571  193573  193579  193581  \\\n",
            "userId                   ...                                                   \n",
            "1           NaN     NaN  ...     NaN     NaN     NaN     NaN     NaN     NaN   \n",
            "2           NaN     NaN  ...     NaN     NaN     NaN     NaN     NaN     NaN   \n",
            "3           NaN     NaN  ...     NaN     NaN     NaN     NaN     NaN     NaN   \n",
            "4           NaN     NaN  ...     NaN     NaN     NaN     NaN     NaN     NaN   \n",
            "5           NaN     NaN  ...     NaN     NaN     NaN     NaN     NaN     NaN   \n",
            "\n",
            "movieId  193583  193585  193587  193609  \n",
            "userId                                   \n",
            "1           NaN     NaN     NaN     NaN  \n",
            "2           NaN     NaN     NaN     NaN  \n",
            "3           NaN     NaN     NaN     NaN  \n",
            "4           NaN     NaN     NaN     NaN  \n",
            "5           NaN     NaN     NaN     NaN  \n",
            "\n",
            "[5 rows x 9724 columns]\n"
          ]
        }
      ]
    },
    {
      "cell_type": "code",
      "source": [
        "from sklearn.model_selection import train_test_split\n",
        "\n",
        "# Split the data into a training set and a test set\n",
        "train, test = train_test_split(ratings, test_size=0.2, random_state=42)\n",
        "\n",
        "# Create the user-item matrix for the training set\n",
        "train_matrix = train.pivot_table(index='userId', columns='movieId', values='rating')\n",
        "\n",
        "# Create the user-item matrix for the test set\n",
        "test_matrix = test.pivot_table(index='userId', columns='movieId', values='rating')"
      ],
      "metadata": {
        "id": "iLqfbHb01_J-"
      },
      "execution_count": 5,
      "outputs": []
    },
    {
      "cell_type": "markdown",
      "source": [
        "# **Collaborative Filtering**\n",
        "\n"
      ],
      "metadata": {
        "id": "p6Pu8lti2NG1"
      }
    },
    {
      "cell_type": "code",
      "source": [
        "!pip install scikit-surprise"
      ],
      "metadata": {
        "colab": {
          "base_uri": "https://localhost:8080/"
        },
        "id": "ESzGfR331fCv",
        "outputId": "25ad5273-7c5f-4b50-d387-9ed3ec504ada"
      },
      "execution_count": 6,
      "outputs": [
        {
          "output_type": "stream",
          "name": "stdout",
          "text": [
            "Requirement already satisfied: scikit-surprise in /usr/local/lib/python3.10/dist-packages (1.1.3)\n",
            "Requirement already satisfied: joblib>=1.0.0 in /usr/local/lib/python3.10/dist-packages (from scikit-surprise) (1.4.0)\n",
            "Requirement already satisfied: numpy>=1.17.3 in /usr/local/lib/python3.10/dist-packages (from scikit-surprise) (1.25.2)\n",
            "Requirement already satisfied: scipy>=1.3.2 in /usr/local/lib/python3.10/dist-packages (from scikit-surprise) (1.11.4)\n"
          ]
        }
      ]
    },
    {
      "cell_type": "code",
      "source": [
        "import pandas as pd\n",
        "from surprise import Dataset, Reader, SVD\n",
        "from surprise.model_selection import train_test_split\n",
        "\n",
        "# Load the datasets\n",
        "movies = pd.read_csv('/content/drive/MyDrive/ML L&T EduTech/Task-5/movies.csv')\n",
        "ratings = pd.read_csv('/content/drive/MyDrive/ML L&T EduTech/Task-5/ratings.csv')\n",
        "\n",
        "# Define a rating scale\n",
        "reader = Reader(rating_scale=(1, 5))\n",
        "\n",
        "# Load the data with the reader\n",
        "data = Dataset.load_from_df(ratings[['userId', 'movieId', 'rating']], reader)\n",
        "\n",
        "# Split the data into train and test sets\n",
        "trainset, testset = train_test_split(data, test_size=0.2, random_state=42)\n",
        "\n",
        "# Train the SVD algorithm\n",
        "model = SVD()\n",
        "model.fit(trainset)\n",
        "\n",
        "predictions = model.test(testset)\n",
        "\n",
        "#Get recommendations for a specific user\n",
        "user_id = 1\n",
        "user_movies = ratings[ratings['userId'] == user_id]['movieId']\n",
        "user_unrated_movies = ratings[~ratings['movieId'].isin(user_movies)]['movieId'].unique()\n",
        "\n",
        "# Predict ratings for unrated movies\n",
        "user_recommendations = []\n",
        "for movie_id in user_unrated_movies:\n",
        "    prediction = model.predict(user_id, movie_id)\n",
        "    user_recommendations.append((movie_id, prediction.est))\n",
        "\n",
        "# Sort recommendations by predicted rating\n",
        "user_recommendations.sort(key=lambda x: x[1], reverse=True)\n",
        "\n",
        "# Print top recommendations\n",
        "top_n = 10\n",
        "print(f'Top {top_n} recommendations for user {user_id}:')\n",
        "for movie_id, predicted_rating in user_recommendations[:top_n]:\n",
        "    movie_title = movies[movies['movieId'] == movie_id]['title'].values[0]\n",
        "    print(f'{movie_title}: Predicted rating {predicted_rating}')\n"
      ],
      "metadata": {
        "colab": {
          "base_uri": "https://localhost:8080/"
        },
        "id": "i76YA4gk2aes",
        "outputId": "80993c68-0b78-4d4f-dc71-6b5e6e172ac9"
      },
      "execution_count": 7,
      "outputs": [
        {
          "output_type": "stream",
          "name": "stdout",
          "text": [
            "Top 10 recommendations for user 1:\n",
            "Rear Window (1954): Predicted rating 5\n",
            "Amadeus (1984): Predicted rating 5\n",
            "Dr. Strangelove or: How I Learned to Stop Worrying and Love the Bomb (1964): Predicted rating 5\n",
            "Ghost Dog: The Way of the Samurai (1999): Predicted rating 5\n",
            "Godfather, The (1972): Predicted rating 5\n",
            "Cool Hand Luke (1967): Predicted rating 5\n",
            "Godfather: Part II, The (1974): Predicted rating 5\n",
            "Boondock Saints, The (2000): Predicted rating 5\n",
            "Ghost in the Shell (Kôkaku kidôtai) (1995): Predicted rating 5\n",
            "Little Big Man (1970): Predicted rating 5\n"
          ]
        }
      ]
    },
    {
      "cell_type": "markdown",
      "source": [
        "# **Content-Based Filtering**\n",
        "\n"
      ],
      "metadata": {
        "id": "PUXVN6Fc2ip3"
      }
    },
    {
      "cell_type": "code",
      "source": [
        "import pandas as pd\n",
        "from sklearn.feature_extraction.text import TfidfVectorizer\n",
        "from sklearn.metrics.pairwise import linear_kernel\n",
        "\n",
        "movies = pd.read_csv('/content/drive/MyDrive/ML L&T EduTech/Task-5/movies.csv')\n",
        "\n",
        "# Combine relevant features into a single column\n",
        "movies['features'] = movies['movieId'].astype(str) + ' ' + movies['title'] + ' ' + movies['genres']\n",
        "\n",
        "# Initialize a TF-IDF vectorizer\n",
        "tfidf = TfidfVectorizer(stop_words='english')\n",
        "\n",
        "tfidf_matrix = tfidf.fit_transform(movies['features'])\n",
        "\n",
        "# Calculate cosine similarity between items\n",
        "cosine_sim = linear_kernel(tfidf_matrix, tfidf_matrix)\n",
        "\n",
        "def recommend_movies(movie_title, cosine_sim=cosine_sim):\n",
        "    # Get the index of the movie that matches the title\n",
        "    idx = movies.loc[movies['title'] == movie_title].index[0]\n",
        "    sim_scores = list(enumerate(cosine_sim[idx]))\n",
        "\n",
        "    # Sort the movies based on the similarity scores\n",
        "    sim_scores = sorted(sim_scores, key=lambda x: x[1], reverse=True)\n",
        "    # Get the top 10 most similar movies\n",
        "    sim_scores = sim_scores[1:11]\n",
        "\n",
        "    # Get the movie indices\n",
        "    movie_indices = [i[0] for i in sim_scores]\n",
        "    return movies['title'].iloc[movie_indices]\n",
        "\n",
        "movie_title = \"Toy Story (1995)\"\n",
        "recommended_movies = recommend_movies(movie_title)\n",
        "print(\"Recommended movies for\", movie_title, \":\")\n",
        "print(recommended_movies)\n"
      ],
      "metadata": {
        "colab": {
          "base_uri": "https://localhost:8080/"
        },
        "id": "OucacWUU2fci",
        "outputId": "b2cad707-9426-4361-9e79-0d3a6ae6f494"
      },
      "execution_count": 8,
      "outputs": [
        {
          "output_type": "stream",
          "name": "stdout",
          "text": [
            "Recommended movies for Toy Story (1995) :\n",
            "2355                       Toy Story 2 (1999)\n",
            "7355                       Toy Story 3 (2010)\n",
            "3595                          Toy, The (1982)\n",
            "2539    We're Back! A Dinosaur's Story (1993)\n",
            "1                              Jumanji (1995)\n",
            "4089                      Toy Soldiers (1991)\n",
            "1617            NeverEnding Story, The (1984)\n",
            "12                               Balto (1995)\n",
            "109         NeverEnding Story III, The (1994)\n",
            "6194                         Wild, The (2006)\n",
            "Name: title, dtype: object\n"
          ]
        }
      ]
    },
    {
      "cell_type": "code",
      "source": [
        "#Accuracy of collaborative filtering\n",
        "\n",
        "import matplotlib.pyplot as plt\n",
        "\n",
        "# Use cross-validation to evaluate RMSE\n",
        "model = SVD()\n",
        "cv_results = cross_validate(model, data, measures=['RMSE'], cv=5, verbose=True)\n",
        "\n",
        "rmse_values = cv_results['test_rmse']\n",
        "avg_rmse_collab = sum(rmse_values) / len(rmse_values)\n",
        "\n",
        "# Plot RMSE values\n",
        "plt.figure(figsize=(8, 6))\n",
        "plt.bar(range(1, len(rmse_values) + 1), rmse_values, color='skyblue')\n",
        "plt.axhline(y=avg_rmse_collab, color='r', linestyle='-', label=f'Average RMSE: {avg_rmse_collab:.4f}')\n",
        "plt.xlabel('Cross-Validation Fold')\n",
        "plt.ylabel('RMSE')\n",
        "plt.title('RMSE for Collaborative Filtering (5-Fold Cross-Validation)')\n",
        "plt.legend()\n",
        "plt.grid(axis='y')\n",
        "plt.show()\n",
        "\n",
        "print(f'Average RMSE for collaborative filtering: {avg_rmse_collab}')\n"
      ],
      "metadata": {
        "colab": {
          "base_uri": "https://localhost:8080/",
          "height": 686
        },
        "id": "OUjAjoH5-mRO",
        "outputId": "36341a46-72df-45ac-9512-5af92072d48c"
      },
      "execution_count": 18,
      "outputs": [
        {
          "output_type": "stream",
          "name": "stdout",
          "text": [
            "Evaluating RMSE of algorithm SVD on 5 split(s).\n",
            "\n",
            "                  Fold 1  Fold 2  Fold 3  Fold 4  Fold 5  Mean    Std     \n",
            "RMSE (testset)    0.8651  0.8745  0.8813  0.8660  0.8732  0.8720  0.0060  \n",
            "Fit time          1.67    2.68    2.10    3.55    1.70    2.34    0.71    \n",
            "Test time         0.29    0.22    0.21    0.42    0.14    0.25    0.09    \n"
          ]
        },
        {
          "output_type": "display_data",
          "data": {
            "text/plain": [
              "<Figure size 800x600 with 1 Axes>"
            ],
            "image/png": "[encoded data removed]"
          },
          "metadata": {}
        },
        {
          "output_type": "stream",
          "name": "stdout",
          "text": [
            "Average RMSE for collaborative filtering: 0.8720054354125981\n"
          ]
        }
      ]
    }
  ]
}